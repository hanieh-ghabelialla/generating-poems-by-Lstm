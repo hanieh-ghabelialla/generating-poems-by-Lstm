{
  "nbformat": 4,
  "nbformat_minor": 0,
  "metadata": {
    "colab": {
      "name": "code_q2.ipynb",
      "provenance": []
    },
    "kernelspec": {
      "name": "python3",
      "display_name": "Python 3"
    },
    "language_info": {
      "name": "python"
    },
    "accelerator": "GPU"
  },
  "cells": [
    {
      "cell_type": "code",
      "metadata": {
        "id": "AmLiKX65J7_9"
      },
      "source": [
        "import numpy as np\n",
        "import pandas as pd\n",
        "from tqdm import tqdm\n",
        "from tensorflow import keras\n",
        "from tensorflow.keras.layers import Embedding, LSTM, Dense, Dropout, Bidirectional\n",
        "from tensorflow.keras.models import Sequential\n",
        "from tensorflow.keras.optimizers import Adam\n",
        "from tensorflow.keras import regularizers\n",
        "from tensorflow.keras.utils import to_categorical\n",
        "import tensorflow as tf"
      ],
      "execution_count": null,
      "outputs": []
    },
    {
      "cell_type": "code",
      "metadata": {
        "id": "ncK1RpeMKSxY"
      },
      "source": [
        "file = open(r'/content/drive/MyDrive/poetry (1).txt', encoding='utf-8')"
      ],
      "execution_count": null,
      "outputs": []
    },
    {
      "cell_type": "code",
      "metadata": {
        "id": "2DwTgT8ZKWXm"
      },
      "source": [
        "lines = file.readlines()"
      ],
      "execution_count": null,
      "outputs": []
    },
    {
      "cell_type": "code",
      "metadata": {
        "id": "vxJsXsgWKYRC"
      },
      "source": [
        "wholepoem = ' '.join(lines)"
      ],
      "execution_count": null,
      "outputs": []
    },
    {
      "cell_type": "code",
      "metadata": {
        "id": "gyzi8GLaKaLv"
      },
      "source": [
        "words = wholepoem.replace('\\n', ' ').replace('\\u200c', ' ').split()"
      ],
      "execution_count": null,
      "outputs": []
    },
    {
      "cell_type": "code",
      "metadata": {
        "colab": {
          "base_uri": "https://localhost:8080/"
        },
        "id": "cxRSePXgKbZG",
        "outputId": "1b5edab8-f077-4c03-a898-a7a77390b4e1"
      },
      "source": [
        "wordCount = {}\n",
        "for word in tqdm(words):\n",
        "    try:\n",
        "        wordCount[word] += 1\n",
        "    except:\n",
        "        wordCount[word] = 1"
      ],
      "execution_count": null,
      "outputs": [
        {
          "output_type": "stream",
          "text": [
            "100%|██████████| 14248/14248 [00:00<00:00, 1592380.38it/s]\n"
          ],
          "name": "stderr"
        }
      ]
    },
    {
      "cell_type": "code",
      "metadata": {
        "id": "FDM9VBHUKcex"
      },
      "source": [
        "threshold = int(np.mean(np.array(list(wordCount.values()))) + 2*np.std(np.array(list(wordCount.values()))))"
      ],
      "execution_count": null,
      "outputs": []
    },
    {
      "cell_type": "code",
      "metadata": {
        "id": "ks2_Zs7VKd1F"
      },
      "source": [
        "filteredWords = []\n",
        "for word in list(wordCount.keys()):\n",
        "    if wordCount[word] > threshold:\n",
        "        filteredWords.append(word)"
      ],
      "execution_count": null,
      "outputs": []
    },
    {
      "cell_type": "code",
      "metadata": {
        "colab": {
          "base_uri": "https://localhost:8080/"
        },
        "id": "ZyDjgB52KfKd",
        "outputId": "81a8c65e-4db6-4a4a-9585-37c6a276c783"
      },
      "source": [
        "print(filteredWords)"
      ],
      "execution_count": null,
      "outputs": [
        {
          "output_type": "stream",
          "text": [
            "['به', 'و', 'از', 'در', 'را', 'می', 'ز', 'بی', 'بر', 'همه', 'نه', 'که', 'هر', 'ما', 'تو', 'با', 'سعدی', 'آن', 'ای', 'چه', 'سر', 'یا', 'گر', 'دوست', 'جان', 'اگر', 'بود', 'تا', 'دست', 'چو', 'عشق', 'روی', 'است', 'چون', 'نمی', 'من', 'چشم', 'دل', 'این', 'ست']\n"
          ],
          "name": "stdout"
        }
      ]
    },
    {
      "cell_type": "code",
      "metadata": {
        "id": "SGicshNsKgqh"
      },
      "source": [
        "stopwords = ['به', 'و', 'از', 'در', 'را', 'می', 'ز', 'بی', 'بر', 'همه', 'نه', 'که', 'هر', 'ما', 'تو', 'با', 'آن', 'ای', 'چه', 'سر', 'یا', 'گر', 'اگر', 'بود', 'تا', 'چو', 'است', 'چون', 'نمی', 'من', 'این', 'ست']"
      ],
      "execution_count": null,
      "outputs": []
    },
    {
      "cell_type": "code",
      "metadata": {
        "id": "IqhlZQOFKiA6"
      },
      "source": [
        "for stopword in stopwords:\n",
        "    while True:\n",
        "        try:\n",
        "            words.remove(stopword)\n",
        "        except:\n",
        "            break"
      ],
      "execution_count": null,
      "outputs": []
    },
    {
      "cell_type": "code",
      "metadata": {
        "id": "P6CXyt8KKkME"
      },
      "source": [
        "dictionary = {}\n",
        "indexer = 0\n",
        "for word in words:\n",
        "    try:\n",
        "        dictionary[word]\n",
        "    except:\n",
        "        dictionary[word] = indexer\n",
        "        indexer += 1"
      ],
      "execution_count": null,
      "outputs": []
    },
    {
      "cell_type": "code",
      "metadata": {
        "id": "CkYqYSRpKl01"
      },
      "source": [
        "data = pd.DataFrame(words, columns=['words_1'])"
      ],
      "execution_count": null,
      "outputs": []
    },
    {
      "cell_type": "code",
      "metadata": {
        "id": "X5DKv-DlKn7y"
      },
      "source": [
        "data['words_2'] = data['words_1'].shift(1)\n",
        "data['words_3'] = data['words_1'].shift(2)\n",
        "data['words_4'] = data['words_1'].shift(3)\n",
        "data['words_5'] = data['words_1'].shift(4)\n",
        "data['target'] = data['words_1'].shift(-1)\n",
        "data = data.dropna()"
      ],
      "execution_count": null,
      "outputs": []
    },
    {
      "cell_type": "code",
      "metadata": {
        "id": "KvFmVkaaKpEW"
      },
      "source": [
        "def func(word):\n",
        "    return dictionary[word]"
      ],
      "execution_count": null,
      "outputs": []
    },
    {
      "cell_type": "code",
      "metadata": {
        "id": "9zEm5sGJKp-_"
      },
      "source": [
        "data['words_1'] = data['words_1'].apply(func)\n",
        "data['words_2'] = data['words_2'].apply(func)\n",
        "data['words_3'] = data['words_3'].apply(func)\n",
        "data['words_4'] = data['words_4'].apply(func)\n",
        "data['words_5'] = data['words_5'].apply(func)\n",
        "data['target'] = data['target'].apply(func)"
      ],
      "execution_count": null,
      "outputs": []
    },
    {
      "cell_type": "code",
      "metadata": {
        "id": "QRfe-xFXKq-n"
      },
      "source": [
        "X = data.drop('target', axis=1).values\n",
        "y = data[['target']].values"
      ],
      "execution_count": null,
      "outputs": []
    },
    {
      "cell_type": "code",
      "metadata": {
        "id": "tDF5HS6ZKsV8"
      },
      "source": [
        "total_words = len(list(dictionary.keys()))"
      ],
      "execution_count": null,
      "outputs": []
    },
    {
      "cell_type": "code",
      "metadata": {
        "id": "cwgH1HwkKtmE"
      },
      "source": [
        "y = to_categorical(y)"
      ],
      "execution_count": null,
      "outputs": []
    },
    {
      "cell_type": "code",
      "metadata": {
        "colab": {
          "base_uri": "https://localhost:8080/"
        },
        "id": "RsYp-aOsKuqF",
        "outputId": "e3607125-88a2-4925-8d08-0e967970046b"
      },
      "source": [
        "model = Sequential()\n",
        "model.add(Embedding(total_words, 20, input_length=5))\n",
        "model.add(Bidirectional(LSTM(128)))\n",
        "model.add(Dropout(0.3))\n",
        "model.add(Dense(total_words, activation='softmax'))\n",
        "model.compile(loss='categorical_crossentropy', optimizer='adam', metrics=['accuracy'])\n",
        "print(model.summary())"
      ],
      "execution_count": null,
      "outputs": [
        {
          "output_type": "stream",
          "text": [
            "Model: \"sequential\"\n",
            "_________________________________________________________________\n",
            "Layer (type)                 Output Shape              Param #   \n",
            "=================================================================\n",
            "embedding (Embedding)        (None, 5, 20)             66600     \n",
            "_________________________________________________________________\n",
            "bidirectional (Bidirectional (None, 256)               152576    \n",
            "_________________________________________________________________\n",
            "dropout (Dropout)            (None, 256)               0         \n",
            "_________________________________________________________________\n",
            "dense (Dense)                (None, 3330)              855810    \n",
            "=================================================================\n",
            "Total params: 1,074,986\n",
            "Trainable params: 1,074,986\n",
            "Non-trainable params: 0\n",
            "_________________________________________________________________\n",
            "None\n"
          ],
          "name": "stdout"
        }
      ]
    },
    {
      "cell_type": "code",
      "metadata": {
        "id": "OB6mxnuHjmp9"
      },
      "source": [
        "class myCallback(keras.callbacks.Callback):\n",
        "    def __init__(self):\n",
        "        self.best = np.inf\n",
        "    def on_epoch_end(self, epoch, logs={}):\n",
        "        if logs.get('loss') < self.best:\n",
        "            model.save('saadi.hdf5')\n",
        "            self.best = logs.get('loss')"
      ],
      "execution_count": null,
      "outputs": []
    },
    {
      "cell_type": "code",
      "metadata": {
        "colab": {
          "base_uri": "https://localhost:8080/"
        },
        "id": "eZZw2jH-KvtN",
        "outputId": "ee8ffcb3-5867-4b17-eee9-d4cf09734062"
      },
      "source": [
        "model.fit(X, y, batch_size=64, epochs=50, callbacks=[myCallback()])"
      ],
      "execution_count": null,
      "outputs": [
        {
          "output_type": "stream",
          "text": [
            "Epoch 1/50\n",
            "145/145 [==============================] - 6s 8ms/step - loss: 7.9811 - accuracy: 0.0095\n",
            "Epoch 2/50\n",
            "145/145 [==============================] - 1s 8ms/step - loss: 7.4502 - accuracy: 0.0091\n",
            "Epoch 3/50\n",
            "145/145 [==============================] - 1s 8ms/step - loss: 7.3379 - accuracy: 0.0134\n",
            "Epoch 4/50\n",
            "145/145 [==============================] - 1s 8ms/step - loss: 7.1522 - accuracy: 0.0105\n",
            "Epoch 5/50\n",
            "145/145 [==============================] - 1s 7ms/step - loss: 7.0492 - accuracy: 0.0104\n",
            "Epoch 6/50\n",
            "145/145 [==============================] - 1s 8ms/step - loss: 6.8701 - accuracy: 0.0137\n",
            "Epoch 7/50\n",
            "145/145 [==============================] - 1s 8ms/step - loss: 6.8050 - accuracy: 0.0138\n",
            "Epoch 8/50\n",
            "145/145 [==============================] - 1s 8ms/step - loss: 6.6924 - accuracy: 0.0127\n",
            "Epoch 9/50\n",
            "145/145 [==============================] - 1s 8ms/step - loss: 6.5684 - accuracy: 0.0157\n",
            "Epoch 10/50\n",
            "145/145 [==============================] - 1s 8ms/step - loss: 6.4599 - accuracy: 0.0152\n",
            "Epoch 11/50\n",
            "145/145 [==============================] - 1s 8ms/step - loss: 6.2824 - accuracy: 0.0201\n",
            "Epoch 12/50\n",
            "145/145 [==============================] - 1s 8ms/step - loss: 6.0437 - accuracy: 0.0212\n",
            "Epoch 13/50\n",
            "145/145 [==============================] - 1s 8ms/step - loss: 5.8298 - accuracy: 0.0261\n",
            "Epoch 14/50\n",
            "145/145 [==============================] - 1s 8ms/step - loss: 5.5826 - accuracy: 0.0374\n",
            "Epoch 15/50\n",
            "145/145 [==============================] - 1s 8ms/step - loss: 5.3369 - accuracy: 0.0513\n",
            "Epoch 16/50\n",
            "145/145 [==============================] - 1s 8ms/step - loss: 5.0431 - accuracy: 0.0691\n",
            "Epoch 17/50\n",
            "145/145 [==============================] - 1s 8ms/step - loss: 4.8204 - accuracy: 0.0882\n",
            "Epoch 18/50\n",
            "145/145 [==============================] - 1s 8ms/step - loss: 4.5328 - accuracy: 0.1264\n",
            "Epoch 19/50\n",
            "145/145 [==============================] - 1s 8ms/step - loss: 4.3174 - accuracy: 0.1488\n",
            "Epoch 20/50\n",
            "145/145 [==============================] - 1s 8ms/step - loss: 4.0856 - accuracy: 0.1744\n",
            "Epoch 21/50\n",
            "145/145 [==============================] - 1s 8ms/step - loss: 3.8523 - accuracy: 0.2201\n",
            "Epoch 22/50\n",
            "145/145 [==============================] - 1s 8ms/step - loss: 3.6108 - accuracy: 0.2556\n",
            "Epoch 23/50\n",
            "145/145 [==============================] - 1s 8ms/step - loss: 3.4280 - accuracy: 0.2914\n",
            "Epoch 24/50\n",
            "145/145 [==============================] - 1s 8ms/step - loss: 3.2153 - accuracy: 0.3264\n",
            "Epoch 25/50\n",
            "145/145 [==============================] - 1s 8ms/step - loss: 3.0430 - accuracy: 0.3685\n",
            "Epoch 26/50\n",
            "145/145 [==============================] - 1s 8ms/step - loss: 2.8545 - accuracy: 0.4001\n",
            "Epoch 27/50\n",
            "145/145 [==============================] - 1s 8ms/step - loss: 2.7008 - accuracy: 0.4330\n",
            "Epoch 28/50\n",
            "145/145 [==============================] - 1s 8ms/step - loss: 2.5769 - accuracy: 0.4570\n",
            "Epoch 29/50\n",
            "145/145 [==============================] - 1s 8ms/step - loss: 2.4550 - accuracy: 0.4811\n",
            "Epoch 30/50\n",
            "145/145 [==============================] - 1s 8ms/step - loss: 2.3355 - accuracy: 0.5066\n",
            "Epoch 31/50\n",
            "145/145 [==============================] - 1s 8ms/step - loss: 2.2096 - accuracy: 0.5387\n",
            "Epoch 32/50\n",
            "145/145 [==============================] - 1s 8ms/step - loss: 2.0863 - accuracy: 0.5649\n",
            "Epoch 33/50\n",
            "145/145 [==============================] - 1s 8ms/step - loss: 1.9668 - accuracy: 0.5816\n",
            "Epoch 34/50\n",
            "145/145 [==============================] - 1s 8ms/step - loss: 1.8994 - accuracy: 0.5935\n",
            "Epoch 35/50\n",
            "145/145 [==============================] - 1s 8ms/step - loss: 1.7913 - accuracy: 0.6232\n",
            "Epoch 36/50\n",
            "145/145 [==============================] - 1s 8ms/step - loss: 1.7203 - accuracy: 0.6395\n",
            "Epoch 37/50\n",
            "145/145 [==============================] - 1s 8ms/step - loss: 1.6446 - accuracy: 0.6509\n",
            "Epoch 38/50\n",
            "145/145 [==============================] - 1s 8ms/step - loss: 1.5390 - accuracy: 0.6747\n",
            "Epoch 39/50\n",
            "145/145 [==============================] - 1s 8ms/step - loss: 1.4655 - accuracy: 0.6873\n",
            "Epoch 40/50\n",
            "145/145 [==============================] - 1s 8ms/step - loss: 1.4355 - accuracy: 0.6849\n",
            "Epoch 41/50\n",
            "145/145 [==============================] - 1s 8ms/step - loss: 1.3586 - accuracy: 0.7094\n",
            "Epoch 42/50\n",
            "145/145 [==============================] - 1s 8ms/step - loss: 1.2982 - accuracy: 0.7223\n",
            "Epoch 43/50\n",
            "145/145 [==============================] - 1s 8ms/step - loss: 1.2422 - accuracy: 0.7408\n",
            "Epoch 44/50\n",
            "145/145 [==============================] - 1s 8ms/step - loss: 1.1985 - accuracy: 0.7401\n",
            "Epoch 45/50\n",
            "145/145 [==============================] - 1s 8ms/step - loss: 1.1297 - accuracy: 0.7628\n",
            "Epoch 46/50\n",
            "145/145 [==============================] - 1s 8ms/step - loss: 1.0954 - accuracy: 0.7686\n",
            "Epoch 47/50\n",
            "145/145 [==============================] - 1s 8ms/step - loss: 1.0647 - accuracy: 0.7695\n",
            "Epoch 48/50\n",
            "145/145 [==============================] - 1s 8ms/step - loss: 0.9964 - accuracy: 0.7875\n",
            "Epoch 49/50\n",
            "145/145 [==============================] - 1s 8ms/step - loss: 0.9729 - accuracy: 0.7966\n",
            "Epoch 50/50\n",
            "145/145 [==============================] - 1s 8ms/step - loss: 0.9168 - accuracy: 0.8032\n"
          ],
          "name": "stdout"
        },
        {
          "output_type": "execute_result",
          "data": {
            "text/plain": [
              "<tensorflow.python.keras.callbacks.History at 0x7fbd0c55ac50>"
            ]
          },
          "metadata": {
            "tags": []
          },
          "execution_count": 22
        }
      ]
    },
    {
      "cell_type": "code",
      "metadata": {
        "id": "MJscqUrck1K0"
      },
      "source": [
        "model.load_weights('saadi.hdf5')"
      ],
      "execution_count": null,
      "outputs": []
    },
    {
      "cell_type": "code",
      "metadata": {
        "id": "FcIqu2lAzQ2O"
      },
      "source": [
        "def produce(sentence, num_words):\n",
        "    for _ in range(num_words):\n",
        "        sentence = sentence.split()\n",
        "        for stopword in stopwords:\n",
        "            while True:\n",
        "                try:\n",
        "                    sentence.remove(stopword)\n",
        "                except:\n",
        "                    break\n",
        "        sentence_cpy = sentence[-5:].copy()\n",
        "        for i in range(len(sentence_cpy)):\n",
        "            sentence_cpy[i] = dictionary[sentence_cpy[i]]\n",
        "        if len(sentence_cpy) < 5:\n",
        "           for i in range(5 - len(sentence_cpy)):\n",
        "              sentence_cpy.insert(0 , 0)\n",
        "        sentence.append(list(dictionary.keys())[np.argmax(model.predict(np.array(sentence_cpy).reshape(-1,5)))])\n",
        "        sentence = ' '.join(sentence)\n",
        "    return sentence"
      ],
      "execution_count": null,
      "outputs": []
    },
    {
      "cell_type": "code",
      "metadata": {
        "colab": {
          "base_uri": "https://localhost:8080/"
        },
        "id": "enOoLbN83raf",
        "outputId": "31ec758d-da96-4e59-a124-de533ade9f89"
      },
      "source": [
        "sentence1 = 'قسمت خود می خورند منعم و درویش'\n",
        "sentence2 = 'جانور از نطفه می کند شکر از نی'\n",
        "sentence3 = 'خود نه زبان در دهان عارف مدهوش'\n",
        "sentence4 = 'سعدی از آن جا که فهم اوست سخن گفت'\n",
        "sentence5 = 'کآینه پاکیزه است و روی تو زیبا'\n",
        "print(produce(sentence1, 5))\n",
        "print(produce(sentence2, 5))\n",
        "print(produce(sentence3, 5))\n",
        "print(produce(sentence4, 5))\n",
        "print(produce(sentence5, 5))"
      ],
      "execution_count": null,
      "outputs": [
        {
          "output_type": "stream",
          "text": [
            "قسمت خود خورند منعم درویش نکوست ور یار پای موی\n",
            "جانور نطفه کند شکر نی فراق کند ناب مقام علی\n",
            "خود زبان دهان عارف مدهوش پیشت بدفرجام مگرت ماندم نظر\n",
            "سعدی جا فهم اوست سخن گفت برد روی وصل رضا چشمه\n",
            "کآینه پاکیزه روی زیبا نظیر طالع مگر کردیم خرقه\n"
          ],
          "name": "stdout"
        }
      ]
    },
    {
      "cell_type": "code",
      "metadata": {
        "id": "ipRk24R67dwP"
      },
      "source": [
        ""
      ],
      "execution_count": null,
      "outputs": []
    }
  ]
}